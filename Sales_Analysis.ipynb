import pandas as pd

# Шлях до файлу
file_path = r'C:\Users\yanap\Downloads\sales_data.csv'

# Зчитування CSV
data = pd.read_csv(file_path)

# Перевіримо перші рядки
data.head()

import pandas as pd
import matplotlib.pyplot as plt
import seaborn as sns

# Зчитування файлу
file_path = r'C:\Users\yanap\Downloads\sales_data.csv'
data = pd.read_csv(file_path)

# Перевірка структури
data.head()

# Перевіримо типи даних
print(data.dtypes)

# Перетворення дати
data['Order_Date'] = pd.to_datetime(data['Order_Date'])

# Додавання місяця
data['Month'] = data['Order_Date'].dt.to_period('M')

# Перевіримо відсутні значення
data.isnull().sum()

# Перевіримо тип колонки Total_Price
print("Before conversion:", data['Total_Price'].dtype)

# Якщо це object — конвертуємо в числовий тип
data['Total_Price'] = pd.to_numeric(data['Total_Price'], errors='coerce')

# Перевіримо, скільки значень стали NaN після перетворення
print("Missing after conversion:", data['Total_Price'].isna().sum())

# Видалимо рядки з некоректними значеннями Total_Price
data = data.dropna(subset=['Total_Price'])

# Перевіримо результат
print("After cleaning:", data['Total_Price'].dtype)

data['Month'] = data['Order_Date'].dt.to_period('M')
data['Month'] = data['Order_Date'].dt.to_period('M').astype(str)

monthly_revenue = data.groupby('Month')['Total_Price'].sum().reset_index()

import matplotlib.pyplot as plt
import seaborn as sns

plt.figure(figsize=(12,6))
sns.lineplot(data=monthly_revenue, x='Month', y='Total_Price', marker='o')
plt.title(' Monthly Revenue')
plt.ylabel('Total Revenue')
plt.xlabel('Month')
plt.xticks(rotation=45)
plt.tight_layout()
plt.show()

top_products = data.groupby('Product')['Total_Price'].sum().sort_values(ascending=False).head(5)

# Графік
plt.figure(figsize=(8,5))
sns.barplot(x=top_products.values, y=top_products.index)
plt.title(' Top 5 Products by Revenue')
plt.xlabel('Total Revenue')
plt.show()

region_sales = data.groupby('Region')['Total_Price'].sum().sort_values(ascending=False)

plt.figure(figsize=(8,5))
sns.barplot(x=region_sales.values, y=region_sales.index)
plt.title(' Revenue by Region')
plt.xlabel('Total Revenue')
plt.show()

order_counts = data['Product'].value_counts()

plt.figure(figsize=(8,5))
sns.barplot(x=order_counts.values, y=order_counts.index)
plt.title(' Number of Orders per Product')
plt.xlabel('Number of Orders')
plt.show()

